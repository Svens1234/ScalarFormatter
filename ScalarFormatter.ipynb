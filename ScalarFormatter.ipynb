{
 "cells": [
  {
   "cell_type": "code",
   "execution_count": 1,
   "id": "af461a5d",
   "metadata": {},
   "outputs": [],
   "source": [
    "import numpy as np\n",
    "import pandas as pd\n",
    "import matplotlib.pyplot as plt\n",
    "import seaborn as sns"
   ]
  },
  {
   "cell_type": "code",
   "execution_count": 55,
   "id": "50ac53e2",
   "metadata": {},
   "outputs": [],
   "source": [
    "x=np.linspace(0,11,10)"
   ]
  },
  {
   "cell_type": "code",
   "execution_count": 74,
   "id": "455046f8",
   "metadata": {},
   "outputs": [
    {
     "data": {
      "image/png": "[encoded data removed]",
      "text/plain": [
       "<Figure size 432x288 with 1 Axes>"
      ]
     },
     "metadata": {
      "needs_background": "light"
     },
     "output_type": "display_data"
    }
   ],
   "source": [
    "fig, ax = plt.subplots(1, 1)\n",
    "      \n",
    "ax.plot(x, x**2, x, np.exp(x))\n",
    "ax.set_title(\"scientific notation\")\n",
    "\n",
    "ax.set_yticks([0, 50, 100, 150])\n",
    "\n",
    "from matplotlib import ticker\n",
    "formatter = ticker.ScalarFormatter(useMathText=True) \n",
    "#ScalarFormatter-Default formatter for scalars: autopick the format string.\n",
    "#useMathText-To enable/disable the use mathtext for rendering the numbers in the formatter.\n",
    "formatter.set_scientific(True) \n",
    "#set_scientific-Turn scientific notation on or off.\n",
    "formatter.set_powerlimits((-1,1)) \n",
    "#set_powerlimits-Set size thresholds for scientific notation.\n",
    "ax.yaxis.set_major_formatter(formatter) \n",
    "#set_major_formatter-Set the formatter of the major ticker"
   ]
  },
  {
   "cell_type": "code",
   "execution_count": null,
   "id": "8b117035",
   "metadata": {},
   "outputs": [],
   "source": []
  }
 ],
 "metadata": {
  "kernelspec": {
   "display_name": "Python 3 (ipykernel)",
   "language": "python",
   "name": "python3"
  },
  "language_info": {
   "codemirror_mode": {
    "name": "ipython",
    "version": 3
   },
   "file_extension": ".py",
   "mimetype": "text/x-python",
   "name": "python",
   "nbconvert_exporter": "python",
   "pygments_lexer": "ipython3",
   "version": "3.8.7"
  }
 },
 "nbformat": 4,
 "nbformat_minor": 5
}
